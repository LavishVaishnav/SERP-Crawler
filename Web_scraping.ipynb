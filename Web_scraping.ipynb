{
  "nbformat": 4,
  "nbformat_minor": 0,
  "metadata": {
    "colab": {
      "provenance": [],
      "authorship_tag": "ABX9TyO9pxdKqUX1il8k/yg66/G7",
      "include_colab_link": true
    },
    "kernelspec": {
      "name": "python3",
      "display_name": "Python 3"
    },
    "language_info": {
      "name": "python"
    }
  },
  "cells": [
    {
      "cell_type": "markdown",
      "metadata": {
        "id": "view-in-github",
        "colab_type": "text"
      },
      "source": [
        "<a href=\"https://colab.research.google.com/github/LavishVaishnav/SERP-Crawler/blob/main/Web_scraping.ipynb\" target=\"_parent\"><img src=\"https://colab.research.google.com/assets/colab-badge.svg\" alt=\"Open In Colab\"/></a>"
      ]
    },
    {
      "cell_type": "code",
      "source": [
        "import json\n",
        "import csv\n",
        "import requests\n",
        "from bs4 import BeautifulSoup\n",
        "from googlesearch import search"
      ],
      "metadata": {
        "id": "x4oCMp3pqhVT"
      },
      "execution_count": 1,
      "outputs": []
    },
    {
      "cell_type": "code",
      "execution_count": 2,
      "metadata": {
        "id": "iNQro9H0ec83"
      },
      "outputs": [],
      "source": [
        "\n",
        "\n",
        "def crawl_google(query, num_results):\n",
        "    search_query = f'site:youtube.com {query}'\n",
        "    results = []\n",
        "    count =0\n",
        "\n",
        "    for url in search(search_query, stop=num_results):\n",
        "        if 'youtube.com/' in url:\n",
        "            results.append(url)\n",
        "            count +=1\n",
        "\n",
        "        if count == num_results:\n",
        "            break\n",
        "\n",
        "    return results\n",
        "\n",
        "def scrape_youtube_channels(links):\n",
        "    channels = []\n",
        "\n",
        "    for link in links:\n",
        "        try:\n",
        "            response = requests.get(link)\n",
        "            soup = BeautifulSoup(response.text, 'html.parser')\n",
        "            channel_link = soup.find('link', {'itemprop': 'url'})['href']\n",
        "            if filter_string in channel_link:\n",
        "              if channel_link not in channels:\n",
        "\n",
        "                channels.append(channel_link)\n",
        "        except:\n",
        "            continue\n",
        "\n",
        "    return channels\n",
        "\n",
        "def save_to_json(data, filename):\n",
        "    with open(filename, 'w') as file:\n",
        "        json.dump(data, file, indent=4)\n",
        "\n",
        "def save_to_csv(data, filename):\n",
        "    with open(filename, 'w', newline='') as file:\n",
        "        writer = csv.writer(file)\n",
        "        writer.writerow(['Channel Link'])\n",
        "        writer.writerows([[link] for link in data])\n",
        "\n"
      ]
    },
    {
      "cell_type": "code",
      "source": [
        "# Crawl and scrape YouTube channel links\n",
        "query = 'openinapp.co'\n",
        "num_results = 10000\n",
        "filter_string = 'youtube.com/channel'\n",
        "search_results = crawl_google(query, num_results)\n",
        "channel_links = scrape_youtube_channels(search_results)\n",
        "\n",
        "# Save the results in JSON format\n",
        "save_to_json(channel_links, 'TaskOpenYoutube_channels.json')\n",
        "\n",
        "# Save the results in CSV format\n",
        "save_to_csv(channel_links, 'TaskOpenYoutube_channels.csv')"
      ],
      "metadata": {
        "id": "CSy_3SEdqURH"
      },
      "execution_count": 3,
      "outputs": []
    }
  ]
}