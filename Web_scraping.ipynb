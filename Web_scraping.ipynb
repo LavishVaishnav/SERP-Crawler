{
  "nbformat": 4,
  "nbformat_minor": 0,
  "metadata": {
    "colab": {
      "provenance": [],
      "authorship_tag": "ABX9TyMnZICTbaL8RJDhSGCYkTGs",
      "include_colab_link": true
    },
    "kernelspec": {
      "name": "python3",
      "display_name": "Python 3"
    },
    "language_info": {
      "name": "python"
    }
  },
  "cells": [
    {
      "cell_type": "markdown",
      "metadata": {
        "id": "view-in-github",
        "colab_type": "text"
      },
      "source": [
        "<a href=\"https://colab.research.google.com/github/LavishVaishnav/SERP-Crawler/blob/main/Web_scraping.ipynb\" target=\"_parent\"><img src=\"https://colab.research.google.com/assets/colab-badge.svg\" alt=\"Open In Colab\"/></a>"
      ]
    },
    {
      "cell_type": "code",
      "source": [
        "import json\n",
        "import csv\n",
        "import requests\n",
        "from bs4 import BeautifulSoup\n",
        "from googlesearch import search"
      ],
      "metadata": {
        "id": "x4oCMp3pqhVT"
      },
      "execution_count": 30,
      "outputs": []
    },
    {
      "cell_type": "code",
      "execution_count": 31,
      "metadata": {
        "id": "iNQro9H0ec83"
      },
      "outputs": [],
      "source": [
        "\n",
        "\n",
        "def crawl_google(query, num_results):\n",
        "    search_query = f'site:youtube.com {query}'\n",
        "    results = []\n",
        "    count =0\n",
        "\n",
        "    for url in search(search_query, stop=num_results):\n",
        "        if 'youtube.com/' in url:\n",
        "            results.append(url)\n",
        "            count +=1\n",
        "\n",
        "        if count == num_results:\n",
        "            break\n",
        "    print(results)\n",
        "\n",
        "    return results\n",
        "\n",
        "def scrape_youtube_channels(links):\n",
        "    channels = []\n",
        "\n",
        "    for link in links:\n",
        "        try:\n",
        "            response = requests.get(link)\n",
        "            soup = BeautifulSoup(response.text, 'html.parser')\n",
        "            channel_link = soup.find('link', {'itemprop': 'url'})['href']\n",
        "            if filter_string in channel_link:\n",
        "              if channel_link not in channels:\n",
        "\n",
        "                channels.append(channel_link)\n",
        "        except:\n",
        "            continue\n",
        "\n",
        "    return channels\n",
        "\n",
        "def save_to_json(data, filename):\n",
        "    with open(filename, 'w') as file:\n",
        "        json.dump(data, file, indent=4)\n",
        "\n",
        "def save_to_csv(data, filename):\n",
        "    with open(filename, 'w', newline='') as file:\n",
        "        writer = csv.writer(file)\n",
        "        writer.writerow(['Channel Link'])\n",
        "        writer.writerows([[link] for link in data])\n",
        "\n"
      ]
    },
    {
      "cell_type": "code",
      "source": [
        "# Crawl and scrape YouTube channel links\n",
        "query = 'openinapp.co'\n",
        "num_results = 10000\n",
        "filter_string = 'youtube.com/channel'\n",
        "search_results = crawl_google(query, num_results)\n",
        "channel_links = scrape_youtube_channels(search_results)\n",
        "\n",
        "# Save the results in JSON format\n",
        "save_to_json(channel_links, 'TaskOpenYoutube_channels.json')\n",
        "\n",
        "# Save the results in CSV format\n",
        "save_to_csv(channel_links, 'TaskOpenYoutube_channels.csv')"
      ],
      "metadata": {
        "id": "CSy_3SEdqURH",
        "colab": {
          "base_uri": "https://localhost:8080/"
        },
        "outputId": "717d5e14-6301-484c-dbc2-bdadbe93c5c5"
      },
      "execution_count": null,
      "outputs": [
        {
          "output_type": "stream",
          "name": "stdout",
          "text": [
            "['https://www.youtube.com/c/OpeninApp', 'https://www.youtube.com/channel/UCIGDcUqL2kKMdJCpIr_dfxg', 'https://www.youtube.com/hashtag/openinapp', 'https://www.youtube.com/watch?v=Fk4E7l18RRo', 'https://www.youtube.com/watch?v=vOo-VyPIiW0', 'https://www.youtube.com/watch?v=O6lup3SN4Bw', 'https://www.youtube.com/post/UgkxzL6nM2d56_PdVjzr6AybtYTvXslbasTH', 'https://www.youtube.com/watch?v=zEd9C0eRwzY', 'https://www.youtube.com/post/Ugkx-QJiB92xlzILRzCM-SxQJZAZVS8sR2EG', 'https://www.youtube.com/post/UgkxBlofpeJj1b_OG2R3cNTqe-trrXMaq2T4', 'https://www.youtube.com/post/UgkxkNMzcb3UCWm4sfl1TtmpUE9eRv_qGnSj', 'https://www.youtube.com/c/SavvyFernweh/community', 'https://www.youtube.com/post/UgkxvxeOVISLxaPkK0XyP2zDBrqTfdJ36ULb', 'https://www.youtube.com/watch?v=OuxYGlIvong', 'https://www.youtube.com/post/Ugkx3NjfgI_XiQGW8Npa-ClChRaGeUudJJAP', 'https://www.youtube.com/post/Ugkxf_hYM7R5Rxe2-x7aIdXxpFMTtoJwg9Dp', 'https://www.youtube.com/post/Ugkxz4IT--T0OQF_MGlVd6Ql6xOiGJKZiEjS', 'https://www.youtube.com/post/UgkxsD5LAk57cSbJpDSuX8U3wgHPMy4D7DSD', 'https://www.youtube.com/post/UgkxH1efibpiSulaCWsw9mQIQ1FUkYnvPacM', 'https://www.youtube.com/watch?v=Njo_GPYbTvY', 'https://www.youtube.com/watch?v=z38gS7J5seE', 'https://www.youtube.com/post/UgkxIlEF_SYNp0ifO6W_GAEdRe2yy_uCPPlH', 'https://www.youtube.com/post/Ugkxaz8MC0iJc-UeUs4o3SFtzqGVR_mFrKLa', 'https://www.youtube.com/post/UgkxQKOHLelrNCJoyCCQCW5NHBjzn4KWveIP', 'https://www.youtube.com/watch?v=Lg4itRSErgU', 'https://www.youtube.com/post/UgkxWxe0Nj-i7RSxgdD9guwk99XYHM00gA_q', 'https://www.youtube.com/post/Ugkxe2GrB63zOanTOsRv6n75Q6wJdNSXnqAi', 'https://www.youtube.com/post/UgkxiKn-5Vm37sw8n-8DnMpuFF_RP-POu6qH', 'https://www.youtube.com/post/UgkxFR1Wyb5jUbbaKiSo7l4zwExIoQj9VtYR', 'https://www.youtube.com/watch?v=a-qoDYHLmKY', 'https://www.youtube.com/post/Ugkxmq4k5vC_mrxI2S1Y8yNplDjrLFv-Duqq', 'https://www.youtube.com/channel/UClOQrZIZQZojI3CmJ3jC2eg?app=desktop', 'https://www.youtube.com/post/UgxxZbA3FKGy6JQbC5t4AaABCQ', 'https://www.youtube.com/post/UgkxdKMFMjFHAE8yFCxwgkBSOQPZm2Xls1GC', 'https://www.youtube.com/post/UgkxiVlvzEvrtCb-7M0oulU6opgdJQBtp9rS', 'https://www.youtube.com/post/Ugkx8-NE_9zvf904H38BM43l3kL11VdOVF3v', 'https://www.youtube.com/c/TradingwithGroww?app=desktop', 'https://www.youtube.com/post/UgkxBkCWCrrMndZiIX1GnsK0xYzlGSFZo2CO', 'https://www.youtube.com/post/Ugkx5oov_6bnVewMVGSi4HrWpZ2OQJ11LdCb', 'https://www.youtube.com/post/UgkxCWrakGXX-4nUDAIYc2lfqgSk5_Lt6Q87', 'https://www.youtube.com/post/UgkxUntDgCtIRkQ8Uex09eRPYWlDkZPIGP5P', 'https://www.youtube.com/post/Ugkx8TBLEMFgPUZmo8uCePHXuF0E_1onTBtg', 'https://www.youtube.com/watch?v=L7tvro8KUUo', 'https://www.youtube.com/watch?v=x6nrchdG_5k', 'https://www.youtube.com/post/UgkxuzQ3Y3XOESIBGNDiP4FZqa3fPSOmat5l', 'https://www.youtube.com/post/Ugkxx8mBGJtFMG4Bvy6OedBmnkyyO64h-1N7', 'https://www.youtube.com/post/Ugkxmm7aMtHMQJq8TtaOSaVZu6VJzTCmvimZ', 'https://www.youtube.com/watch?v=Mi4eiO-ESG0', 'https://www.youtube.com/post/UgkxAaFyAz1Mi5gjLhif1ZVhdk-ZdlqD7L_R', 'https://www.youtube.com/post/Ugkxy3D2R47NeJKDYFhs4sYe3qv-hEqdNY2D', 'https://www.youtube.com/post/UgkxN86Uky9ZxXhrIinvTGWjLl2ttPdEpadg', 'https://www.youtube.com/watch?v=s51xEN1RSxg', 'https://www.youtube.com/post/UgkxkXwTT_8INDCkvWkvqikIH-30LMktsNQO', 'https://www.youtube.com/post/Ugkxh0eq838iyoft4RjXue15WxRt6YrDH3hD', 'https://www.youtube.com/watch?v=xWC86v6p258', 'https://www.youtube.com/post/UgkxIEx6vIN0KBHEANGftZW4VM4w0_2sOtEO', 'https://www.youtube.com/post/UgkxV9pJEoVzx_WuXzxrwx1iJhVKoBkgws1i', 'https://www.youtube.com/watch?v=-CV9Yf1xPcc', 'https://www.youtube.com/post/UgkxRnAKmMohP-GjAFez-PDCWC4P0tyDOeHC', 'https://www.youtube.com/channel/UCT2xzagsBVtStUCA2ulvKmQ/community?lc=UgzwoTgfJuEjk5xfVJB4AaABAg&lb=UgkxRr0r_-PECgQZa99yjufWKBvKcb19MEHd', 'https://www.youtube.com/post/UgkxknM0l3YReK8faX3U8_12T0a46nzZ1kF_', 'https://www.youtube.com/post/UgkxIKHlwegfpzGik7_bSPwGef0K6NXaPGhw', 'https://www.youtube.com/post/UgkxQmPP718esXfVF1jpPu7YQNVP7EwL54je', 'https://www.youtube.com/post/Ugkxa10GJk9JoQ-o7c1i9dnbmlLsD4BKEOq1', 'https://www.youtube.com/post/Ugkx-3V2djQarTdOZddWqctVkdVrcO5M30vs', 'https://www.youtube.com/post/UgkxkLG0bk-ln26XZ0avNkfseYWXPr5-7ORW', 'https://www.youtube.com/post/UgkxZqpPf59b5-hdCCDTMGhZl9lbsSrZ06CE', 'https://www.youtube.com/post/UgkxGiRGExQYVq-C_ziWYEP13k-1FG7WhO8Q', 'https://www.youtube.com/post/UgkxatxOR0g58CuY7-riNgjc-XYKaBk-BC9f', 'https://www.youtube.com/post/Ugkx1pChU-6JpDP56rshOBoBjljR_uNpYOrI', 'https://www.youtube.com/watch?v=dFJd_F0BFD4', 'https://www.youtube.com/post/Ugkx2Gf_RPR0F5iG_v1kbtI8d7pqpDQZ-5Dy', 'https://www.youtube.com/post/UgkxkgJ5iUv8AYYIf6eNheZvt7kKOLmvtbyr', 'https://www.youtube.com/post/UgkxFyhwBbZK3ddNJ1QJmFOXRtpZwLncnIhc', 'https://www.youtube.com/watch?v=u4Cww0CCUGY', 'https://www.youtube.com/watch?v=kvus3AHaO60', 'https://www.youtube.com/watch?v=9jbHOBxdNpw', 'https://www.youtube.com/watch?v=eyB4I73PZfY', 'https://www.youtube.com/watch?v=lU-lKmhoozU', 'https://www.youtube.com/watch?v=1k3rW_MMvg4', 'https://www.youtube.com/watch?v=PGlA4IdGQtI', 'https://www.youtube.com/watch?v=8Y_D4337RMQ', 'https://www.youtube.com/watch?v=Y0futiFT6-Y', 'https://www.youtube.com/watch?v=_vok3EqklOU', 'https://www.youtube.com/watch?v=qtw16jiNkqg', 'https://www.youtube.com/watch?v=yx0abfdHY8Q', 'https://www.youtube.com/watch?v=SSwCQ2205rQ', 'https://www.youtube.com/watch?v=peY6Bez4baY', 'https://www.youtube.com/watch?v=zMbNMqghlcU', 'https://www.youtube.com/watch?v=ae3RSftcdUA', 'https://www.youtube.com/watch?v=Q_SHeJjtKEA', 'https://www.youtube.com/watch?v=Ko9V07_ikIM', 'https://www.youtube.com/watch?v=zJsAECXaPYU', 'https://www.youtube.com/watch?v=sSDIBZWcFuY', 'https://www.youtube.com/watch?v=lRt8ZY2Ar3c', 'https://www.youtube.com/watch?v=upGRNGJMD3o', 'https://www.youtube.com/watch?v=ij2axC-tYXU', 'https://www.youtube.com/watch?v=SrjklEPpmhw', 'https://www.youtube.com/watch?v=18id_7RRiOQ', 'https://www.youtube.com/watch?v=c0MjfSq1jJs', 'https://www.youtube.com/watch?v=RFYQ16q-BIw', 'https://www.youtube.com/watch?v=OckDlAdIAyE', 'https://www.youtube.com/watch?v=6Fi3dFoA2Zc', 'https://www.youtube.com/watch?v=zL7mZqziHlo', 'https://www.youtube.com/watch?v=xFNucRcSe78', 'https://www.youtube.com/watch?v=YLsnCSjJOgo', 'https://www.youtube.com/watch?v=N0B80KO5hlY', 'https://www.youtube.com/watch?v=l8i99yKUgg0', 'https://www.youtube.com/watch?v=bXaS31vY8cU', 'https://www.youtube.com/watch?v=li4XWQRnpPk', 'https://www.youtube.com/watch?v=Y5XrvV4a-bY', 'https://www.youtube.com/watch?v=4ribByvlkSY', 'https://www.youtube.com/watch?v=CbESfZanYyA', 'https://www.youtube.com/watch?v=7Yhwn_J1woQ', 'https://www.youtube.com/watch?v=19ihnfHjXDg', 'https://www.youtube.com/watch?v=tr5tmXA4QYc', 'https://www.youtube.com/watch?v=TgvaaJwpstM', 'https://www.youtube.com/watch?v=JLUxTgpK3DY', 'https://www.youtube.com/watch?v=imA7FYM7iW8', 'https://www.youtube.com/watch?v=bfs2y2y7hh0', 'https://www.youtube.com/watch?v=8e65yiBMuuU', 'https://www.youtube.com/watch?v=PvE8YsPepSw', 'https://www.youtube.com/watch?v=STMDP0EoybE', 'https://www.youtube.com/watch?v=Xw869OeSXgA', 'https://www.youtube.com/watch?v=z-FRM6OOQYs', 'https://www.youtube.com/watch?v=jNr_jZOnFj0', 'https://www.youtube.com/watch?v=NojoEaHPe2U', 'https://www.youtube.com/watch?v=0o7bwyrgo0Y', 'https://www.youtube.com/watch?v=T4LXH9iG27c', 'https://www.youtube.com/watch?v=WNZUum4AxDc', 'https://www.youtube.com/post/Ugkx2eUb2LsSprqM8kvQxmZ_yaHxqZB-mZLL', 'https://www.youtube.com/watch?v=oMMQMdcRGgg', 'https://www.youtube.com/watch?v=j6QfKiSTazY', 'https://www.youtube.com/watch?v=LG8VCuGEOxU', 'https://www.youtube.com/watch?v=sGXxM8zOriU', 'https://www.youtube.com/watch?v=43z6Gg4hPvA', 'https://www.youtube.com/watch?v=4h9mWVA_H4g', 'https://www.youtube.com/watch?v=zEWKUUs8Ox8', 'https://www.youtube.com/watch?v=VykTf2o9HyY', 'https://www.youtube.com/watch?v=qunm3quS7MY', 'https://www.youtube.com/watch?v=y8N7ORShafg', 'https://www.youtube.com/watch?v=yb8typsQvXo', 'https://www.youtube.com/watch?v=2Gg3pEkNxk4', 'https://www.youtube.com/watch?v=uBqgNlm6mo8', 'https://www.youtube.com/watch?v=nYj5r0LXb-8', 'https://www.youtube.com/watch?v=PNiDNqPmGtw', 'https://www.youtube.com/watch?v=RwGfzBYiTHs', 'https://www.youtube.com/watch?v=nKLwSzyW-6M', 'https://www.youtube.com/watch?v=4Q-jlIlwavo', 'https://www.youtube.com/watch?v=G7QoMgd8USY', 'https://www.youtube.com/watch?v=HaTkEsr3wn0&t=0s', 'https://www.youtube.com/watch?v=1GCsKCqMMc8', 'https://www.youtube.com/watch?v=wMsYqIhYW2k', 'https://www.youtube.com/watch?v=Rz3EpMziEto', 'https://www.youtube.com/watch?v=sc68B-IwjCY', 'https://www.youtube.com/watch?v=Wc6GN20zcxw', 'https://www.youtube.com/watch?v=CFbyjoBoWTw', 'https://www.youtube.com/watch?v=_h9R3jrWbnc', 'https://www.youtube.com/watch?v=AsAD5tIzo0Q', 'https://www.youtube.com/watch?v=_45uaVvqXl0', 'https://www.youtube.com/watch?v=j1Lmtld6fIE', 'https://www.youtube.com/watch?v=bsD3592Zey0', 'https://www.youtube.com/watch?v=MR22MpK-5LI', 'https://www.youtube.com/watch?v=S_ai8_UOcng', 'https://www.youtube.com/watch?v=fQrNsIiNeTw', 'https://www.youtube.com/watch?v=JgeBpmh13cM', 'https://www.youtube.com/watch?v=QEqqJj59LTU', 'https://www.youtube.com/watch?v=z0X_9XwcoBA', 'https://www.youtube.com/watch?v=-Bm2D01zrZw', 'https://www.youtube.com/watch?v=aNEQOZjFWQM', 'https://www.youtube.com/watch?v=NbHXQQ2cFNQ', 'https://www.youtube.com/watch?v=40wO7-FdZUo', 'https://www.youtube.com/watch?v=Xa4zyN3CCcc', 'https://www.youtube.com/watch?v=DSsa97AkyCs', 'https://www.youtube.com/watch?v=Z8ofLza36EU', 'https://www.youtube.com/watch?v=L9Xsyx4d2vI', 'https://www.youtube.com/watch?v=eu7utdkZzHc', 'https://www.youtube.com/watch?v=IL6olHyCO2k', 'https://www.youtube.com/watch?v=DTu5MuevAgk', 'https://www.youtube.com/watch?v=OMqfnMIGb-E', 'https://www.youtube.com/watch?v=kZo0EMUHY3w', 'https://www.youtube.com/watch?v=C1K3IuRFuKs', 'https://www.youtube.com/watch?v=PvLOVnklGc8', 'https://www.youtube.com/watch?v=3qX4kPn6fW0', 'https://www.youtube.com/watch?v=A0ohnoI4b5U', 'https://www.youtube.com/watch?v=1mjEXESNXgY', 'https://www.youtube.com/watch?v=FeHmsfgB3lM', 'https://www.youtube.com/watch?v=JN0BXZIE3PQ', 'https://www.youtube.com/watch?v=qtQZg9deBOM', 'https://www.youtube.com/watch?v=pS-3W8KHj4k', 'https://www.youtube.com/watch?v=dd02GPhhNhQ', 'https://www.youtube.com/watch?v=R_rx1eeOPlg', 'https://www.youtube.com/watch?v=QQJzoO3IWFw', 'https://www.youtube.com/watch?v=Verm7AgGFKU', 'https://www.youtube.com/watch?v=glnplLdbuj0', 'https://www.youtube.com/watch?v=a75Kj8G7xw0', 'https://www.youtube.com/watch?v=trahYtTbEpc', 'https://www.youtube.com/watch?v=3CfjHqkRsPo', 'https://www.youtube.com/watch?v=AY-_wgax05s', 'https://www.youtube.com/watch?v=pPS9GAHGHsA', 'https://www.youtube.com/watch?v=NczFgfX8iFU', 'https://www.youtube.com/watch?v=hkUVijT2Ubs', 'https://www.youtube.com/watch?v=HYTygmpVK4U', 'https://www.youtube.com/watch?v=PWiFT3CLCEo', 'https://www.youtube.com/watch?v=oQlO8qss2VI', 'https://www.youtube.com/watch?v=XtwCD68JfJU', 'https://www.youtube.com/watch?v=zxTgu3tN-eE', 'https://www.youtube.com/watch?v=IITh35IbCSs', 'https://www.youtube.com/watch?v=LMNQ39WYjk0', 'https://www.youtube.com/watch?v=eZt60cJVGqM', 'https://www.youtube.com/watch?v=zy0ih5i5tCM', 'https://www.youtube.com/watch?v=BxyC69j-lfM', 'https://www.youtube.com/watch?v=72x8Qh19ZYw', 'https://www.youtube.com/watch?v=CyRAjJGDxcM', 'https://www.youtube.com/watch?v=E7CvDzQAkjU', 'https://www.youtube.com/watch?v=tMiWYelzgLU', 'https://www.youtube.com/watch?v=kJ5HUswFIew', 'https://www.youtube.com/watch?v=RbHMgc6vxR8', 'https://www.youtube.com/watch?v=iZAaxeAePYo', 'https://www.youtube.com/watch?v=yRxXLMVd2es', 'https://www.youtube.com/watch?v=gNpZHvl095s', 'https://www.youtube.com/watch?v=ArTcgzU3exw', 'https://www.youtube.com/watch?v=KtI3wEWX1lU', 'https://www.youtube.com/watch?v=_vIwnQ0hmcU', 'https://www.youtube.com/watch?v=a4TOwKE7DSM', 'https://www.youtube.com/watch?v=dxqnhCC_Hng', 'https://www.youtube.com/watch?v=iIn176pra6Q', 'https://www.youtube.com/watch?v=s0eUGZVDdxU', 'https://www.youtube.com/watch?v=nMPmXJPjbw0', 'https://www.youtube.com/watch?v=wlbupzFpvEY', 'https://www.youtube.com/watch?v=Y2RocM3cClM', 'https://www.youtube.com/watch?v=OsHFAEF5eH4', 'https://www.youtube.com/watch?v=EGLcR_G7jYg', 'https://www.youtube.com/watch?v=a3e4qgyq1mg', 'https://www.youtube.com/watch?v=c-4FkyBwW9A', 'https://www.youtube.com/watch?v=onfzIzlFUqE', 'https://www.youtube.com/watch?v=wh5G03w0KS0', 'https://www.youtube.com/watch?v=Go7f0zB6r2U', 'https://www.youtube.com/watch?v=dpypfwXk2DE', 'https://www.youtube.com/watch?v=x5xqxOTBkEQ', 'https://www.youtube.com/watch?v=IKR81T-oQv0', 'https://www.youtube.com/watch?v=qeDTGV_qimA', 'https://m.youtube.com/watch?v=LtVmKPm7Qsc', 'https://www.youtube.com/watch?v=dKcPPzP2hkg', 'https://www.youtube.com/watch?v=WbwSlQFawpc', 'https://www.youtube.com/watch?v=GslMy1zt7wU', 'https://www.youtube.com/watch?v=9zAE4vYlaSw', 'https://www.youtube.com/watch?v=VL8a9pvAjYE', 'https://www.youtube.com/watch?v=079oSI8-w_M', 'https://m.youtube.com/watch?v=uLCYI63DAT8', 'https://www.youtube.com/watch?v=-0_7Mqj-B9s', 'https://www.youtube.com/watch?v=VgZdWC8Df5g', 'https://www.youtube.com/watch?v=a23Su8HFx9E', 'https://www.youtube.com/watch?v=PTeUnDv8pDU', 'https://www.youtube.com/watch?v=-BtfxmmGKFA', 'https://www.youtube.com/watch?v=S9AvDNZZnIs', 'https://www.youtube.com/watch?v=WqaJHusbW4s', 'https://www.youtube.com/watch?v=rrfKkcSLRXw', 'https://www.youtube.com/watch?v=tU5IzWWV570', 'https://www.youtube.com/watch?v=kYS6IyHaPsk', 'https://www.youtube.com/watch?v=hwpXvIooNME', 'https://www.youtube.com/watch?v=GcFSTGsXxkE', 'https://www.youtube.com/watch?v=Tlxwez5iVrc', 'https://www.youtube.com/watch?v=D1fbTn3ZlEo', 'https://www.youtube.com/watch?v=3co0-7OTYi0', 'https://www.youtube.com/watch?v=DX-JyMGxniY', 'https://www.youtube.com/watch?v=CofahY2VIAs', 'https://www.youtube.com/watch?v=LtVmKPm7Qsc', 'https://www.youtube.com/watch?v=Os15eYiA6qs', 'https://www.youtube.com/watch?v=-pulc06dKA8', 'https://www.youtube.com/watch?v=aT-Xr-XoJcs', 'https://www.youtube.com/watch?v=T7gFljttHBM', 'https://www.youtube.com/watch?v=VNdfwuA9BSw', 'https://www.youtube.com/watch?v=zqyTkArU5Y0', 'https://www.youtube.com/watch?v=YDeT4e0Yp2E', 'https://www.youtube.com/watch?v=jzSC0y6SZs4', 'https://www.youtube.com/watch?v=XWxxbgq7t1Y', 'https://www.youtube.com/watch?v=7zG7jspETQQ', 'https://www.youtube.com/watch?v=Ge8wWwOR8RY', 'https://www.youtube.com/watch?v=PK6u6iFYGAo', 'https://www.youtube.com/watch?v=cfx5PYfAm5U', 'https://www.youtube.com/watch?v=TR1YNTcSmWk', 'https://www.youtube.com/watch?v=-mc9ty3Rnnw', 'https://www.youtube.com/watch?v=KcK_x_8wvPo', 'https://www.youtube.com/watch?v=UpcAdClUsI8', 'https://www.youtube.com/watch?v=Jp0g44yGCgk', 'https://www.youtube.com/watch?v=sTpEr2I22U4', 'https://www.youtube.com/watch?v=gEjxuTdOx1A', 'https://www.youtube.com/watch?v=nFGpABUChak', 'https://www.youtube.com/watch?v=mBS23EjzrVQ', 'https://www.youtube.com/watch?v=y75vat_Tgy4', 'https://www.youtube.com/watch?v=EsyKI6MRgx0', 'https://www.youtube.com/watch?v=j-_7FJlRgd0', 'https://www.youtube.com/watch?v=FkEBJVirNXA', 'https://www.youtube.com/watch?v=FNey5HPrt1M', 'https://www.youtube.com/watch?v=2cY7Q0OWRSk', 'https://www.youtube.com/watch?v=OHe8Uw0dJSY', 'https://www.youtube.com/watch?v=TdEErpHPk9c', 'https://www.youtube.com/watch?v=HdXN52YoQ2Q', 'https://www.youtube.com/watch?v=SIiczcojV5k', 'https://www.youtube.com/watch?v=ilx2V2WfL3Q', 'https://www.youtube.com/watch?v=cBgQLzQExM0', 'https://www.youtube.com/watch?v=kgaXiWfqN_I', 'https://www.youtube.com/watch?v=zVg2Rj22T_A', 'https://www.youtube.com/watch?v=KX2FiYdZ1tU', 'https://www.youtube.com/watch?v=M9PjpLYFQdY', 'https://www.youtube.com/watch?v=qkXN9PYfTX4', 'https://www.youtube.com/watch?v=nhJ91cgHBB4', 'https://www.youtube.com/watch?v=HY0XQPAd55M', 'https://www.youtube.com/watch?v=ekfJdubeHfM', 'https://www.youtube.com/watch?v=CgmMHV98k3c', 'https://www.youtube.com/watch?v=lxOAkqLpZr4', 'https://www.youtube.com/watch?v=CngFZOSAJhk', 'https://www.youtube.com/watch?v=pUt3FjDkFFA', 'https://www.youtube.com/watch?v=9wBgFnaWsWg', 'https://www.youtube.com/watch?v=KoGr--jJMRQ', 'https://www.youtube.com/watch?v=MqHd-bOLNrU', 'https://www.youtube.com/watch?v=6e143L3lPVs', 'https://www.youtube.com/watch?v=fN6UvaaHEfg', 'https://www.youtube.com/watch?v=ERLcCNRTzuQ', 'https://www.youtube.com/watch?v=rGFlwjfDHA0', 'https://www.youtube.com/watch?v=1aSB1tv4hBw', 'https://www.youtube.com/watch?v=evJvgX-VYDY', 'https://www.youtube.com/watch?v=GBvCjEtIZdo', 'https://www.youtube.com/watch?v=owbC-h5qwZg', 'https://www.youtube.com/watch?v=D6cMtEox-GQ', 'https://www.youtube.com/watch?v=_pkxQIzsY20', 'https://www.youtube.com/watch?v=y8Vwagnb1xI', 'https://www.youtube.com/watch?v=nBTH_qznL1o', 'https://www.youtube.com/watch?v=SBc-47SCxNM', 'https://www.youtube.com/watch?v=zRxDfenZtas', 'https://www.youtube.com/watch?v=tf-JucsxkaA', 'https://www.youtube.com/watch?v=BoAAKsdrkz0', 'https://www.youtube.com/watch?v=4zRwrmGxwN8', 'https://www.youtube.com/watch?v=BXvF67tXgFQ', 'https://www.youtube.com/watch?v=5lqQAaQLDEg', 'https://www.youtube.com/watch?v=5KNwtG6_Vfw', 'https://www.youtube.com/watch?v=FSav3SCHDh0', 'https://www.youtube.com/watch?v=qJKRO2M7ti4', 'https://www.youtube.com/watch?v=MGSLwZ1Ze-c', 'https://www.youtube.com/watch?v=d8MkvtVAmN8', 'https://www.youtube.com/watch?v=XSx8qotQlbM', 'https://www.youtube.com/watch?v=2gNO1aITOs0', 'https://www.youtube.com/watch?v=HaeKShiQW0c', 'https://www.youtube.com/watch?v=0QGh2nR1gPo', 'https://www.youtube.com/watch?v=P-8GK54b_WY', 'https://www.youtube.com/watch?v=6nQVkucg86U', 'https://www.youtube.com/watch?v=CRncnXtKH1A', 'https://www.youtube.com/watch?v=f1X2JDl7qEw', 'https://www.youtube.com/watch?v=VTCX7rz9ICI', 'https://www.youtube.com/watch?v=LG9yui3IIqc', 'https://www.youtube.com/watch?v=dBjX37txNKo', 'https://www.youtube.com/watch?v=_1ysSL8Tr_w', 'https://www.youtube.com/watch?v=LQ3kv8yJb4I', 'https://www.youtube.com/watch?v=QHh365nepEM', 'https://www.youtube.com/watch?v=xoSnFO0YGhM', 'https://www.youtube.com/watch?v=AouEmq1IKFA', 'https://www.youtube.com/watch?v=Aoc0KMALwYo']\n"
          ]
        }
      ]
    }
  ]
}